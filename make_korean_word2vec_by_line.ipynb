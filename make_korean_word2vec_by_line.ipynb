{
 "cells": [
  {
   "cell_type": "code",
   "execution_count": 1,
   "metadata": {},
   "outputs": [],
   "source": [
    "import pickle\n",
    "\n",
    "with open('dataset/nouns_by_line.txt', 'rb') as fp:\n",
    "    result = pickle.load(fp)"
   ]
  },
  {
   "cell_type": "code",
   "execution_count": 2,
   "metadata": {},
   "outputs": [],
   "source": [
    "#import argparse\n",
    "from gensim.models import Word2Vec\n",
    "import codecs\n",
    "import numpy as np\n",
    "\n",
    "# arguments setting\n",
    "#parser = argparse.ArgumentParser()\n",
    "#parser.add_argument('--language', default='ko')\n",
    "#parser.add_argument('--size', type=int, default=100)\n",
    "#parser.add_argument('--window', type=int, default=5)\n",
    "#parser.add_argument('--min_count', type=int, default=5)\n",
    "#parser.add_argument('--vocab_size', type=int, default=10000)\n",
    "#parser.add_argument('--negative', type=int, default=5)\n",
    "#parser.add_argument('--workers', type=int, default=4)\n",
    "#args = parser.parse_args()\n",
    "\n",
    "#language = args.language\n",
    "#size = args.size\n",
    "#window = args.window\n",
    "#min_count = args.min_count\n",
    "#vocab_size = args.vocab_size\n",
    "#negative = args.negative\n",
    "#workers = args.workers\n",
    "#sg = 0\n",
    "# size: 단어 벡터의 크기\n",
    "# window: 앞뒤로 살펴볼 단어의 개수\n",
    "# min_count: 단어의 최소 빈도\n",
    "# vocab_size: 단어의 최대 개수\n",
    "# num_negative: 노이즈 단어\n",
    "# workers: 동시에 학습 진행\n",
    "# sg: 0이면 CBOW, 1이면 skip-gram\n",
    "\n",
    "language = 'ko'\n",
    "size = 100\n",
    "window = 5\n",
    "min_count = 5\n",
    "#vocab_size = 10000\n",
    "negative = 5\n",
    "#workers = 4\n",
    "sg = 1\n",
    "# size: 단어 벡터의 크기\n",
    "# window: 앞뒤로 살펴볼 단어의 개수\n",
    "# min_count: 단어의 최소 빈도\n",
    "# vocab_size: 단어의 최대 개수\n",
    "# num_negative: 노이즈 단어\n",
    "# workers: 동시에 학습 진행\n",
    "# sg: 0이면 CBOW, 1이면 skip-gram\n",
    "\n",
    "model = Word2Vec(result, size=size, window=window, min_count=min_count, negative=negative, sg=sg)"
   ]
  },
  {
   "cell_type": "code",
   "execution_count": 4,
   "metadata": {},
   "outputs": [],
   "source": [
    "#model.save('data/{}.bin'.format(language))\n",
    "\n",
    "#with codecs.open('data/{}.tsv'.format(language), 'w', 'utf-8') as fout:\n",
    "#        for i, word in enumerate(model.index2word):\n",
    "#            fout.write(u\"{}\\t{}\\t{}\\n\".format(str(i), word.encode('utf8').decode('utf8'), np.array_str(model[word])))\n",
    "\n",
    "model.wv.save_word2vec_format('korean_word2vec_v1')"
   ]
  },
  {
   "cell_type": "code",
   "execution_count": 5,
   "metadata": {},
   "outputs": [
    {
     "name": "stdout",
     "output_type": "stream",
     "text": [
      "202703\n",
      "[('서울특별시', 0.7818922996520996), ('부천시청역', 0.7551447153091431), ('송파구', 0.7540204524993896), ('낙성대역', 0.7501496076583862), ('양천구', 0.7407433986663818), ('왕십리', 0.736539363861084), ('둔촌동', 0.7347136735916138), ('효창공원역', 0.7342122197151184), ('을지로입구역', 0.7329400777816772), ('강남구', 0.728437066078186)]\n",
      "[('아이언맨', 0.8258734941482544), ('마블', 0.8120836019515991), ('어벤저스', 0.8068305253982544), ('앤트맨', 0.7955503463745117), ('가디언즈', 0.7799661755561829), ('스타로드', 0.7751042246818542), ('시네마', 0.7678062319755554), ('엑스맨', 0.7661322355270386), ('왓처', 0.7548689246177673), ('유니버스', 0.7541368007659912)]\n"
     ]
    }
   ],
   "source": [
    "print(model.wv.vectors.shape[0])\n",
    "print(model.wv.most_similar(\"서울\"))\n",
    "print(model.wv.most_similar(\"어벤져스\"))"
   ]
  },
  {
   "cell_type": "code",
   "execution_count": null,
   "metadata": {},
   "outputs": [],
   "source": []
  }
 ],
 "metadata": {
  "kernelspec": {
   "display_name": "Python 3",
   "language": "python",
   "name": "python3"
  },
  "language_info": {
   "codemirror_mode": {
    "name": "ipython",
    "version": 3
   },
   "file_extension": ".py",
   "mimetype": "text/x-python",
   "name": "python",
   "nbconvert_exporter": "python",
   "pygments_lexer": "ipython3",
   "version": "3.6.4"
  }
 },
 "nbformat": 4,
 "nbformat_minor": 2
}
