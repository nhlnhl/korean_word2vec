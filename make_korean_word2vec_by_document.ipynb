{
 "cells": [
  {
   "cell_type": "code",
   "execution_count": 1,
   "metadata": {},
   "outputs": [],
   "source": [
    "import pickle\n",
    "\n",
    "with open('dataset/nouns_by_document.txt', 'rb') as fp:\n",
    "    result = pickle.load(fp)"
   ]
  },
  {
   "cell_type": "code",
   "execution_count": 2,
   "metadata": {},
   "outputs": [],
   "source": [
    "#import argparse\n",
    "from gensim.models import Word2Vec\n",
    "import codecs\n",
    "import numpy as np\n",
    "\n",
    "# arguments setting\n",
    "#parser = argparse.ArgumentParser()\n",
    "#parser.add_argument('--language', default='ko')\n",
    "#parser.add_argument('--size', type=int, default=100)\n",
    "#parser.add_argument('--window', type=int, default=5)\n",
    "#parser.add_argument('--min_count', type=int, default=5)\n",
    "#parser.add_argument('--vocab_size', type=int, default=10000)\n",
    "#parser.add_argument('--negative', type=int, default=5)\n",
    "#parser.add_argument('--workers', type=int, default=4)\n",
    "#args = parser.parse_args()\n",
    "\n",
    "#language = args.language\n",
    "#size = args.size\n",
    "#window = args.window\n",
    "#min_count = args.min_count\n",
    "#vocab_size = args.vocab_size\n",
    "#negative = args.negative\n",
    "#workers = args.workers\n",
    "#sg = 0\n",
    "# size: 단어 벡터의 크기\n",
    "# window: 앞뒤로 살펴볼 단어의 개수\n",
    "# min_count: 단어의 최소 빈도\n",
    "# vocab_size: 단어의 최대 개수\n",
    "# num_negative: 노이즈 단어\n",
    "# workers: 동시에 학습 진행\n",
    "# sg: 0이면 CBOW, 1이면 skip-gram\n",
    "\n",
    "language = 'ko'\n",
    "size = 100\n",
    "window = 5\n",
    "min_count = 5\n",
    "#vocab_size = 10000\n",
    "negative = 5\n",
    "#workers = 4\n",
    "sg = 1\n",
    "# size: 단어 벡터의 크기\n",
    "# window: 앞뒤로 살펴볼 단어의 개수\n",
    "# min_count: 단어의 최소 빈도\n",
    "# vocab_size: 단어의 최대 개수\n",
    "# num_negative: 노이즈 단어\n",
    "# workers: 동시에 학습 진행\n",
    "# sg: 0이면 CBOW, 1이면 skip-gram\n",
    "\n",
    "model = Word2Vec(result, size=size, window=window, min_count=min_count, negative=negative, sg=sg)"
   ]
  },
  {
   "cell_type": "code",
   "execution_count": 3,
   "metadata": {},
   "outputs": [],
   "source": [
    "#model.save('data/{}.bin'.format(language))\n",
    "\n",
    "#with codecs.open('data/{}.tsv'.format(language), 'w', 'utf-8') as fout:\n",
    "#        for i, word in enumerate(model.index2word):\n",
    "#            fout.write(u\"{}\\t{}\\t{}\\n\".format(str(i), word.encode('utf8').decode('utf8'), np.array_str(model[word])))\n",
    "\n",
    "model.wv.save_word2vec_format('korean_word2vec_v2')"
   ]
  },
  {
   "cell_type": "code",
   "execution_count": 4,
   "metadata": {},
   "outputs": [
    {
     "name": "stdout",
     "output_type": "stream",
     "text": [
      "202703\n",
      "[('서울특별시', 0.7818883657455444), ('부천시청역', 0.757004976272583), ('송파구', 0.7445350885391235), ('효창공원역', 0.7388486266136169), ('강동구청역', 0.7384418249130249), ('양천구', 0.7345916628837585), ('영등포', 0.7336797714233398), ('낙성대역', 0.7316161394119263), ('잠실동', 0.7307723760604858), ('상일동', 0.7284778356552124)]\n",
      "[('아이언맨', 0.8518717288970947), ('앤트맨', 0.8311656713485718), ('마블', 0.8182191848754883), ('어벤저스', 0.784065842628479), ('가디언즈', 0.7751093506813049), ('시네마', 0.7656115889549255), ('스타로드', 0.765412449836731), ('엑스맨', 0.7540251016616821), ('킬몽거', 0.751144528388977), ('트찰', 0.7428982257843018)]\n"
     ]
    }
   ],
   "source": [
    "print(model.wv.vectors.shape[0])\n",
    "print(model.wv.most_similar(\"서울\"))\n",
    "print(model.wv.most_similar(\"어벤져스\"))"
   ]
  }
 ],
 "metadata": {
  "kernelspec": {
   "display_name": "Python 3",
   "language": "python",
   "name": "python3"
  },
  "language_info": {
   "codemirror_mode": {
    "name": "ipython",
    "version": 3
   },
   "file_extension": ".py",
   "mimetype": "text/x-python",
   "name": "python",
   "nbconvert_exporter": "python",
   "pygments_lexer": "ipython3",
   "version": "3.6.4"
  }
 },
 "nbformat": 4,
 "nbformat_minor": 2
}
